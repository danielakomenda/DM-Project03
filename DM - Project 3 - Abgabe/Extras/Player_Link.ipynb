{
 "cells": [
  {
   "cell_type": "code",
   "execution_count": 1,
   "id": "e24fc1b1",
   "metadata": {},
   "outputs": [],
   "source": [
    "import sqlite3\n",
    "from pathlib import Path\n",
    "import pandas as pd"
   ]
  },
  {
   "cell_type": "code",
   "execution_count": 7,
   "id": "d7db4762",
   "metadata": {},
   "outputs": [],
   "source": [
    "con = sqlite3.connect('football.sqlite')\n",
    "con.row_factory = sqlite3.Row"
   ]
  },
  {
   "cell_type": "code",
   "execution_count": 8,
   "id": "9e649ec4",
   "metadata": {},
   "outputs": [],
   "source": [
    "query = \"SELECT * from Game\""
   ]
  },
  {
   "cell_type": "code",
   "execution_count": 12,
   "id": "a48d236c",
   "metadata": {},
   "outputs": [
    {
     "name": "stdout",
     "output_type": "stream",
     "text": [
      "236177\n"
     ]
    }
   ],
   "source": [
    "player_links = {}\n",
    "for row in con.execute(query):\n",
    "    for team in [\"home\", \"away\"]:\n",
    "        for p1 in range (1, 12):\n",
    "            pID1 = row[f\"{team}_player_{p1}\"]\n",
    "            if pID1 is None:\n",
    "                continue\n",
    "            for p2 in range (1, p1):\n",
    "                pID2 = row[f\"{team}_player_{p2}\"]\n",
    "                if pID2 is None:\n",
    "                    continue\n",
    "                key = (min(pID1, pID2), max(pID1, pID2))\n",
    "                player_links[key] = player_links.get(key, 0)+1\n",
    "print(len(player_links))"
   ]
  },
  {
   "cell_type": "code",
   "execution_count": 15,
   "id": "d5487f3c",
   "metadata": {
    "scrolled": true
   },
   "outputs": [
    {
     "data": {
      "text/html": [
       "<div>\n",
       "<style scoped>\n",
       "    .dataframe tbody tr th:only-of-type {\n",
       "        vertical-align: middle;\n",
       "    }\n",
       "\n",
       "    .dataframe tbody tr th {\n",
       "        vertical-align: top;\n",
       "    }\n",
       "\n",
       "    .dataframe thead th {\n",
       "        text-align: right;\n",
       "    }\n",
       "</style>\n",
       "<table border=\"1\" class=\"dataframe\">\n",
       "  <thead>\n",
       "    <tr style=\"text-align: right;\">\n",
       "      <th></th>\n",
       "      <th>pID1</th>\n",
       "      <th>pID2</th>\n",
       "      <th>nGames</th>\n",
       "    </tr>\n",
       "  </thead>\n",
       "  <tbody>\n",
       "    <tr>\n",
       "      <th>0</th>\n",
       "      <td>11323</td>\n",
       "      <td>40714</td>\n",
       "      <td>23</td>\n",
       "    </tr>\n",
       "    <tr>\n",
       "      <th>1</th>\n",
       "      <td>30823</td>\n",
       "      <td>40714</td>\n",
       "      <td>23</td>\n",
       "    </tr>\n",
       "    <tr>\n",
       "      <th>2</th>\n",
       "      <td>11323</td>\n",
       "      <td>30823</td>\n",
       "      <td>110</td>\n",
       "    </tr>\n",
       "    <tr>\n",
       "      <th>3</th>\n",
       "      <td>26136</td>\n",
       "      <td>40714</td>\n",
       "      <td>16</td>\n",
       "    </tr>\n",
       "    <tr>\n",
       "      <th>4</th>\n",
       "      <td>11323</td>\n",
       "      <td>26136</td>\n",
       "      <td>89</td>\n",
       "    </tr>\n",
       "  </tbody>\n",
       "</table>\n",
       "</div>"
      ],
      "text/plain": [
       "    pID1   pID2  nGames\n",
       "0  11323  40714      23\n",
       "1  30823  40714      23\n",
       "2  11323  30823     110\n",
       "3  26136  40714      16\n",
       "4  11323  26136      89"
      ]
     },
     "execution_count": 15,
     "metadata": {},
     "output_type": "execute_result"
    }
   ],
   "source": [
    "df = pd.DataFrame(\n",
    "    [k+(v,) for k, v in player_links.items()],\n",
    "    columns = [\"pID1\",\"pID2\",\"nGames\"],\n",
    ")\n",
    "df.head()"
   ]
  },
  {
   "cell_type": "code",
   "execution_count": 16,
   "id": "8d7a77f8",
   "metadata": {},
   "outputs": [],
   "source": [
    "df.to_csv(\"player_links.csv\")"
   ]
  },
  {
   "cell_type": "code",
   "execution_count": null,
   "id": "e5da3a86",
   "metadata": {},
   "outputs": [],
   "source": []
  }
 ],
 "metadata": {
  "kernelspec": {
   "display_name": "Python 3 (ipykernel)",
   "language": "python",
   "name": "python3"
  },
  "language_info": {
   "codemirror_mode": {
    "name": "ipython",
    "version": 3
   },
   "file_extension": ".py",
   "mimetype": "text/x-python",
   "name": "python",
   "nbconvert_exporter": "python",
   "pygments_lexer": "ipython3",
   "version": "3.10.4"
  }
 },
 "nbformat": 4,
 "nbformat_minor": 5
}
